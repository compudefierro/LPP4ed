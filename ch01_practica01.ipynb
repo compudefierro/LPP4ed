{
 "cells": [
  {
   "cell_type": "code",
   "execution_count": 1,

   "id": "5c60c14e-34dd-46e3-bb89-0512ae7f290c",

   "id": "c2f829c2-37cf-4240-b7df-e578db86ae79",

   "metadata": {},
   "outputs": [
    {
     "name": "stdout",
     "output_type": "stream",
     "text": [
      "3.12.4 | packaged by Anaconda, Inc. | (main, Jun 18 2024, 15:03:56) [MSC v.1929 64 bit (AMD64)]\n"
     ]
    }
   ],
   "source": [
    "import sys\n",
    "print(sys.version)"
   ]
  },
  {
   "cell_type": "code",

   "execution_count": 2,
   "id": "099e1c8c-1292-4017-91b0-de2f4b96a12e",

   "execution_count": 3,
   "id": "48ab6066-e1a0-4194-adc8-ef85af8a7bd2",

   "metadata": {},
   "outputs": [
    {
     "name": "stdout",
     "output_type": "stream",
     "text": [

      "120\n"

      "The Zen of Python, by Tim Peters\n",
      "\n",
      "Beautiful is better than ugly.\n",
      "Explicit is better than implicit.\n",
      "Simple is better than complex.\n",
      "Complex is better than complicated.\n",
      "Flat is better than nested.\n",
      "Sparse is better than dense.\n",
      "Readability counts.\n",
      "Special cases aren't special enough to break the rules.\n",
      "Although practicality beats purity.\n",
      "Errors should never pass silently.\n",
      "Unless explicitly silenced.\n",
      "In the face of ambiguity, refuse the temptation to guess.\n",
      "There should be one-- and preferably only one --obvious way to do it.\n",
      "Although that way may not be obvious at first unless you're Dutch.\n",
      "Now is better than never.\n",
      "Although never is often better than *right* now.\n",
      "If the implementation is hard to explain, it's a bad idea.\n",
      "If the implementation is easy to explain, it may be a good idea.\n",
      "Namespaces are one honking great idea -- let's do more of those!\n"

     ]
    }
   ],
   "source": [
<<<<<<< HEAD
    "print(1*2*3*4*5)"
   ]
  },
  {
   "cell_type": "code",
   "execution_count": 4,
   "id": "b7cddc15-fbb8-475b-add2-5813664fe8b1",
   "metadata": {},
   "outputs": [
    {
     "data": {
      "text/plain": [
       "120"
      ]
     },
     "execution_count": 4,
     "metadata": {},
     "output_type": "execute_result"
    }
   ],
   "source": [
    "from math import factorial\n",
    "factorial(5)"

    "import this"

   ]
  },
  {
   "cell_type": "code",
   "execution_count": null,

   "id": "6145cf10-c806-4d7d-9a6b-e17121b63f11",

   "id": "a7fa5211-6f39-4283-9887-e6de57d254b0",

   "metadata": {},
   "outputs": [],
   "source": []
  }
 ],
 "metadata": {
  "kernelspec": {
   "display_name": "Python 3 (ipykernel)",
   "language": "python",
   "name": "python3"
  },
  "language_info": {
   "codemirror_mode": {
    "name": "ipython",
    "version": 3
   },
   "file_extension": ".py",
   "mimetype": "text/x-python",
   "name": "python",
   "nbconvert_exporter": "python",
   "pygments_lexer": "ipython3",
   "version": "3.12.4"
  }
 },
 "nbformat": 4,
 "nbformat_minor": 5
}
