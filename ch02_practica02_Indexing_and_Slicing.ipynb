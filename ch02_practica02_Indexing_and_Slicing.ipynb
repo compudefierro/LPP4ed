{
 "cells": [
  {
   "cell_type": "code",
   "execution_count": 5,
   "id": "f10e1d7d-41c7-4667-bf1d-df0cd2d6e62e",
   "metadata": {},
   "outputs": [
    {
     "name": "stdout",
     "output_type": "stream",
     "text": [
      "T\n",
      "The t\n"
     ]
    }
   ],
   "source": [
    "# Indexing and Slicing\n",
    "s = \"The trouble is you think you have time.\"\n",
    "print(s[0])\n",
    "print(s[:5])"
   ]
  },
  {
   "cell_type": "code",
   "execution_count": 22,
   "id": "e2deb3f6-52fe-4751-adee-cb02f61450bf",
   "metadata": {},
   "outputs": [
    {
     "name": "stdout",
     "output_type": "stream",
     "text": [
      "The trouble\n"
     ]
    }
   ],
   "source": [
    "frase = []\n",
    "for i in s[:11]:\n",
    "    frase.append(i)\n",
    "print(''.join(frase))"
   ]
  },
  {
   "cell_type": "code",
   "execution_count": 24,
   "id": "8e8aa1a6-60e8-4773-a780-91c85f7a58e0",
   "metadata": {},
   "outputs": [
    {
     "data": {
      "text/plain": [
       "'Two very popular languages: Python, Javascript, C'"
      ]
     },
     "execution_count": 24,
     "metadata": {},
     "output_type": "execute_result"
    }
   ],
   "source": [
    "languages = [\"Python\", \"Javascript\", \"C\"]\n",
    "f\"Two very popular languages: {\", \".join(languages)}\""
   ]
  },
  {
   "cell_type": "code",
   "execution_count": 26,
   "id": "988db24d-c25c-42a9-835b-7e8e757c2cf3",
   "metadata": {},
   "outputs": [
    {
     "data": {
      "text/plain": [
       "'Who knew f-strings could be so powerful? 🤷'"
      ]
     },
     "execution_count": 26,
     "metadata": {},
     "output_type": "execute_result"
    }
   ],
   "source": [
    "f\"Who knew f-strings could be so powerful? {\"\\N{shrug}\"}\""
   ]
  },
  {
   "cell_type": "code",
   "execution_count": 28,
   "id": "fcb527ad-9e2d-499d-8b52-6d3e11e4e971",
   "metadata": {},
   "outputs": [
    {
     "name": "stdout",
     "output_type": "stream",
     "text": [
      "Log in with: heinrich and super-secret\n",
      "Log in with: user='heinrich' and password='super-secret'\n"
     ]
    }
   ],
   "source": [
    "user = \"heinrich\"\n",
    "password = \"super-secret\"\n",
    "print(f\"Log in with: {user} and {password}\")\n",
    "print(f\"Log in with: {user=} and {password=}\")"
   ]
  },
  {
   "cell_type": "code",
   "execution_count": null,
   "id": "7331e4fe-b354-4d90-b81f-4f3626d292c6",
   "metadata": {},
   "outputs": [],
   "source": [
    "# Tuples\n"
   ]
  }
 ],
 "metadata": {
  "kernelspec": {
   "display_name": "Python 3 (ipykernel)",
   "language": "python",
   "name": "python3"
  },
  "language_info": {
   "codemirror_mode": {
    "name": "ipython",
    "version": 3
   },
   "file_extension": ".py",
   "mimetype": "text/x-python",
   "name": "python",
   "nbconvert_exporter": "python",
   "pygments_lexer": "ipython3",
   "version": "3.12.4"
  }
 },
 "nbformat": 4,
 "nbformat_minor": 5
}
