{
 "cells": [
  {
   "cell_type": "code",
   "execution_count": 1,
   "id": "9b780340-3e70-41ab-bbc0-1010cfa3ed65",
   "metadata": {},
   "outputs": [],
   "source": [
    "# Data types\n",
    "# https://docs.python.org/3/library/datatypes.html\n",
    "\n",
    "# introduction to dates and times, collections, and enumerations\n",
    "\n",
    "# Dates and times\n",
    "\n",
    "from datetime import date, datetime, timedelta, timezone, UTC\n",
    "import time\n",
    "import calendar as cal\n",
    "from zoneinfo import ZoneInfo\n"
   ]
  },
  {
   "cell_type": "code",
   "execution_count": 2,
   "id": "bf32cb3c-6948-4245-ae84-a7cf6dbae241",
   "metadata": {},
   "outputs": [
    {
     "name": "stdout",
     "output_type": "stream",
     "text": [
      "2025-04-01\n",
      "Tue Apr  1 00:00:00 2025\n",
      "2025-04-01\n",
      "1\n"
     ]
    }
   ],
   "source": [
    "today = date.today()\n",
    "print(today)\n",
    "print(today.ctime())\n",
    "print(today.isoformat())\n",
    "print(today.weekday())"
   ]
  },
  {
   "cell_type": "code",
   "execution_count": 3,
   "id": "39e6ff01-f425-4f53-aa77-42b711a73fc0",
   "metadata": {},
   "outputs": [
    {
     "name": "stdout",
     "output_type": "stream",
     "text": [
      "Tuesday\n"
     ]
    }
   ],
   "source": [
    "print(cal.day_name[today.weekday()])"
   ]
  },
  {
   "cell_type": "code",
   "execution_count": 4,
   "id": "608c7558-9dc1-4392-8b9d-7d51b44f5233",
   "metadata": {},
   "outputs": [
    {
     "name": "stdout",
     "output_type": "stream",
     "text": [
      "1 4 2025\n"
     ]
    }
   ],
   "source": [
    "print(today.day, today.month, today.year)"
   ]
  },
  {
   "cell_type": "code",
   "execution_count": 5,
   "id": "9edbbf0a-22bd-446b-ad9c-098371817ec8",
   "metadata": {},
   "outputs": [
    {
     "data": {
      "text/plain": [
       "time.struct_time(tm_year=2025, tm_mon=4, tm_mday=1, tm_hour=0, tm_min=0, tm_sec=0, tm_wday=1, tm_yday=91, tm_isdst=-1)"
      ]
     },
     "execution_count": 5,
     "metadata": {},
     "output_type": "execute_result"
    }
   ],
   "source": [
    "today.timetuple()"
   ]
  },
  {
   "cell_type": "code",
   "execution_count": 6,
   "id": "6ae73b18-3286-474e-b96f-d18f181df796",
   "metadata": {},
   "outputs": [
    {
     "data": {
      "text/plain": [
       "'Tue Apr  1 11:56:20 2025'"
      ]
     },
     "execution_count": 6,
     "metadata": {},
     "output_type": "execute_result"
    }
   ],
   "source": [
    "time.ctime()"
   ]
  },
  {
   "cell_type": "code",
   "execution_count": 7,
   "id": "e71c14c2-7449-42bf-8c95-2c3a377e2aa8",
   "metadata": {},
   "outputs": [
    {
     "data": {
      "text/plain": [
       "0"
      ]
     },
     "execution_count": 7,
     "metadata": {},
     "output_type": "execute_result"
    }
   ],
   "source": [
    "time.daylight"
   ]
  },
  {
   "cell_type": "code",
   "execution_count": 8,
   "id": "729a01d8-6587-4f7c-8b5c-d9a3a5fec8b3",
   "metadata": {},
   "outputs": [
    {
     "data": {
      "text/plain": [
       "time.struct_time(tm_year=2025, tm_mon=4, tm_mday=1, tm_hour=14, tm_min=56, tm_sec=20, tm_wday=1, tm_yday=91, tm_isdst=0)"
      ]
     },
     "execution_count": 8,
     "metadata": {},
     "output_type": "execute_result"
    }
   ],
   "source": [
    "time.gmtime()"
   ]
  },
  {
   "cell_type": "code",
   "execution_count": 9,
   "id": "166c8412-6623-4809-86fc-ab5a10bf8611",
   "metadata": {},
   "outputs": [
    {
     "data": {
      "text/plain": [
       "time.struct_time(tm_year=1970, tm_mon=1, tm_mday=1, tm_hour=0, tm_min=0, tm_sec=0, tm_wday=3, tm_yday=1, tm_isdst=0)"
      ]
     },
     "execution_count": 9,
     "metadata": {},
     "output_type": "execute_result"
    }
   ],
   "source": [
    "time.gmtime(0)"
   ]
  },
  {
   "cell_type": "code",
   "execution_count": 10,
   "id": "51c6cf5c-91c9-4b84-a374-dfe940478987",
   "metadata": {},
   "outputs": [
    {
     "data": {
      "text/plain": [
       "time.struct_time(tm_year=2025, tm_mon=4, tm_mday=1, tm_hour=11, tm_min=56, tm_sec=20, tm_wday=1, tm_yday=91, tm_isdst=0)"
      ]
     },
     "execution_count": 10,
     "metadata": {},
     "output_type": "execute_result"
    }
   ],
   "source": [
    "time.localtime()"
   ]
  },
  {
   "cell_type": "code",
   "execution_count": 11,
   "id": "96b31fea-eaa9-410b-8fbb-7389cd11f210",
   "metadata": {},
   "outputs": [
    {
     "data": {
      "text/plain": [
       "1743519380.9328365"
      ]
     },
     "execution_count": 11,
     "metadata": {},
     "output_type": "execute_result"
    }
   ],
   "source": [
    "time.time()"
   ]
  },
  {
   "cell_type": "code",
   "execution_count": 12,
   "id": "0867e171-7f23-4722-a37a-300d0ad9fa42",
   "metadata": {},
   "outputs": [
    {
     "data": {
      "text/plain": [
       "datetime.datetime(2025, 4, 1, 11, 56, 20, 945327)"
      ]
     },
     "execution_count": 12,
     "metadata": {},
     "output_type": "execute_result"
    }
   ],
   "source": [
    "now = datetime.now()\n",
    "utcnow = datetime.now(UTC)\n",
    "now"
   ]
  },
  {
   "cell_type": "code",
   "execution_count": 13,
   "id": "18ce3e14-8791-486e-800c-095a5c9cbf4c",
   "metadata": {},
   "outputs": [
    {
     "data": {
      "text/plain": [
       "datetime.datetime(2025, 4, 1, 14, 56, 20, 945327, tzinfo=datetime.timezone.utc)"
      ]
     },
     "execution_count": 13,
     "metadata": {},
     "output_type": "execute_result"
    }
   ],
   "source": [
    "utcnow"
   ]
  },
  {
   "cell_type": "code",
   "execution_count": 14,
   "id": "2db21cc0-788d-4d52-a97c-f8d69a22ca11",
   "metadata": {},
   "outputs": [
    {
     "data": {
      "text/plain": [
       "datetime.date(2025, 4, 1)"
      ]
     },
     "execution_count": 14,
     "metadata": {},
     "output_type": "execute_result"
    }
   ],
   "source": [
    "now.date()"
   ]
  },
  {
   "cell_type": "code",
   "execution_count": 15,
   "id": "01e8dd04-bbd8-44e0-bdef-39ec2a6a9dcd",
   "metadata": {},
   "outputs": [
    {
     "data": {
      "text/plain": [
       "(1, 4, 2025)"
      ]
     },
     "execution_count": 15,
     "metadata": {},
     "output_type": "execute_result"
    }
   ],
   "source": [
    "now.day, now.month, now.year"
   ]
  },
  {
   "cell_type": "code",
   "execution_count": 16,
   "id": "280b0597-fd83-475a-ae68-dfbb62185be9",
   "metadata": {},
   "outputs": [
    {
     "data": {
      "text/plain": [
       "True"
      ]
     },
     "execution_count": 16,
     "metadata": {},
     "output_type": "execute_result"
    }
   ],
   "source": [
    "now.date() == date.today()"
   ]
  },
  {
   "cell_type": "code",
   "execution_count": 17,
   "id": "9f34ad0e-8526-490f-a7ff-41b4a38002b0",
   "metadata": {},
   "outputs": [
    {
     "data": {
      "text/plain": [
       "datetime.time(11, 56, 20, 945327)"
      ]
     },
     "execution_count": 17,
     "metadata": {},
     "output_type": "execute_result"
    }
   ],
   "source": [
    "now.time()"
   ]
  },
  {
   "cell_type": "code",
   "execution_count": 18,
   "id": "d46d02ac-fed1-4ada-80c4-732259c3e7ad",
   "metadata": {},
   "outputs": [
    {
     "data": {
      "text/plain": [
       "(11, 56, 20, 945327)"
      ]
     },
     "execution_count": 18,
     "metadata": {},
     "output_type": "execute_result"
    }
   ],
   "source": [
    "now.hour, now.minute, now.second, now.microsecond"
   ]
  },
  {
   "cell_type": "code",
   "execution_count": 19,
   "id": "2a7618ef-4e07-4d8f-a7c4-54477a06e64c",
   "metadata": {},
   "outputs": [
    {
     "data": {
      "text/plain": [
       "'Tue Apr  1 11:56:20 2025'"
      ]
     },
     "execution_count": 19,
     "metadata": {},
     "output_type": "execute_result"
    }
   ],
   "source": [
    "now.ctime()"
   ]
  },
  {
   "cell_type": "code",
   "execution_count": 20,
   "id": "64702221-4081-4f03-8e0f-5017f5a92586",
   "metadata": {},
   "outputs": [
    {
     "data": {
      "text/plain": [
       "'2025-04-01T11:56:20.945327'"
      ]
     },
     "execution_count": 20,
     "metadata": {},
     "output_type": "execute_result"
    }
   ],
   "source": [
    "now.isoformat()"
   ]
  },
  {
   "cell_type": "code",
   "execution_count": 21,
   "id": "2e691d66-10b1-45c7-b567-fff69afc02bb",
   "metadata": {},
   "outputs": [
    {
     "data": {
      "text/plain": [
       "time.struct_time(tm_year=2025, tm_mon=4, tm_mday=1, tm_hour=11, tm_min=56, tm_sec=20, tm_wday=1, tm_yday=91, tm_isdst=-1)"
      ]
     },
     "execution_count": 21,
     "metadata": {},
     "output_type": "execute_result"
    }
   ],
   "source": [
    "now.timetuple()"
   ]
  },
  {
   "cell_type": "code",
   "execution_count": 22,
   "id": "92162221-4e68-4a41-bd31-14b749ef412f",
   "metadata": {},
   "outputs": [],
   "source": [
    "now.tzinfo"
   ]
  },
  {
   "cell_type": "code",
   "execution_count": 23,
   "id": "5fb41ca7-01ed-4b15-8fd2-af8ce8f4b84c",
   "metadata": {},
   "outputs": [
    {
     "data": {
      "text/plain": [
       "datetime.timezone.utc"
      ]
     },
     "execution_count": 23,
     "metadata": {},
     "output_type": "execute_result"
    }
   ],
   "source": [
    "utcnow.tzinfo"
   ]
  },
  {
   "cell_type": "code",
   "execution_count": 24,
   "id": "2f78daf7-5717-4c3e-a971-a36e6bfb6324",
   "metadata": {},
   "outputs": [
    {
     "data": {
      "text/plain": [
       "1"
      ]
     },
     "execution_count": 24,
     "metadata": {},
     "output_type": "execute_result"
    }
   ],
   "source": [
    "now.weekday()"
   ]
  },
  {
   "cell_type": "code",
   "execution_count": 64,
   "id": "eb0714f6-38c7-4307-b884-391d1bc34bc9",
   "metadata": {},
   "outputs": [
    {
     "name": "stdout",
     "output_type": "stream",
     "text": [
      "1975-12-29 12:50:00+01:00\n",
      "1981-10-07 15:30:50+02:00\n",
      "<class 'datetime.timedelta'>\n",
      "2109\n",
      "182223650.0\n",
      "2025-05-20\n",
      "2025-05-20 11:56:20.945327\n"
     ]
    }
   ],
   "source": [
    "# Fabrizio and Heinrich’s birthdays\n",
    "f_bday = datetime(1975, 12, 29, 12, 50, tzinfo=ZoneInfo('Europe/Rome'))\n",
    "h_bday = datetime(1981, 10, 7, 15, 30, 50, tzinfo=timezone(timedelta(hours=2)))\n",
    "print(f_bday)\n",
    "print(h_bday)\n",
    "diff = h_bday - f_bday\n",
    "print(type(diff))\n",
    "print(diff.days)\n",
    "print(diff.total_seconds())\n",
    "print(today + timedelta(days=49))\n",
    "print(now + timedelta(weeks=7))"
   ]
  },
  {
   "cell_type": "raw",
   "id": "4027f917-65f0-4b3f-8470-4bbf96e2d0b9",
   "metadata": {},
   "source": []
  },
  {
   "cell_type": "code",
   "execution_count": null,
   "id": "29821449-1689-47ef-888b-fc9b71b99d80",
   "metadata": {},
   "outputs": [],
   "source": []
  }
 ],
 "metadata": {
  "kernelspec": {
   "display_name": "Python 3 (ipykernel)",
   "language": "python",
   "name": "python3"
  },
  "language_info": {
   "codemirror_mode": {
    "name": "ipython",
    "version": 3
   },
   "file_extension": ".py",
   "mimetype": "text/x-python",
   "name": "python",
   "nbconvert_exporter": "python",
   "pygments_lexer": "ipython3",
   "version": "3.12.4"
  }
 },
 "nbformat": 4,
 "nbformat_minor": 5
}
