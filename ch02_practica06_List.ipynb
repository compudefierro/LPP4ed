{
 "cells": [
  {
   "cell_type": "code",
   "execution_count": 41,
   "id": "9126aa3c-6cae-47a2-8d68-a48080ed1fa6",
   "metadata": {},
   "outputs": [
    {
     "name": "stdout",
     "output_type": "stream",
     "text": [
      " {'A': 1, 'Z': -1} \n",
      " {'A': 1, 'Z': -1} \n",
      " {'A': 1, 'Z': -1} \n",
      " {'A': 1, 'Z': -1} \n",
      " {'Z': -1, 'A': 1}\n",
      "True\n"
     ]
    }
   ],
   "source": [
    "# Mapping types: dictionaries\n",
    "# Of all the built-in Python data types, the dictionary is easily the most interesting. It is the only\n",
    "# standard mapping type, and it is the backbone of every Python object.\n",
    "\n",
    "a = dict(A=1, Z=-1)\n",
    "b = {\"A\":1, \"Z\":-1}\n",
    "c = dict(zip([\"A\",\"Z\"], [1,-1]))\n",
    "d = dict([(\"A\", 1), (\"Z\", -1)])\n",
    "e = dict({\"Z\": -1, \"A\": 1})\n",
    "print(\"\",a,\"\\n\",b, \"\\n\", c, \"\\n\", d,\"\\n\", e)\n",
    "print(a == b == c == d == e)  "
   ]
  },
  {
   "cell_type": "code",
   "execution_count": 59,
   "id": "cbddb81f-545e-4c6e-a49e-50001163f663",
   "metadata": {},
   "outputs": [
    {
     "data": {
      "text/plain": [
       "False"
      ]
     },
     "execution_count": 59,
     "metadata": {},
     "output_type": "execute_result"
    }
   ],
   "source": [
    "f = dict(A=1, Z=2)\n",
    "a==f"
   ]
  },
  {
   "cell_type": "code",
   "execution_count": 71,
   "id": "6aa5054b-5df4-492f-91fa-4a3618817ae5",
   "metadata": {},
   "outputs": [
    {
     "name": "stdout",
     "output_type": "stream",
     "text": [
      "[('h', 1), ('e', 2), ('l', 3), ('l', 4), ('o', 5)]\n",
      "[('h', 1), ('e', 2), ('l', 3), ('l', 4), ('o', 5)]\n"
     ]
    }
   ],
   "source": [
    "# zip\n",
    "\n",
    "lista_a = list(zip([\"h\", \"e\", \"l\", \"l\", \"o\"], [1, 2, 3, 4, 5]))\n",
    "print(lista_a)\n",
    "lista_b = list(zip(\"hello\", range(1, 6))) # equivalent, more pythonic\n",
    "print(lista_b)"
   ]
  },
  {
   "cell_type": "code",
   "execution_count": 80,
   "id": "cb09c434-a281-4dbe-80c1-7b9314221837",
   "metadata": {},
   "outputs": [
    {
     "name": "stdout",
     "output_type": "stream",
     "text": [
      "dict_keys(['h', 'e', 'l', 'o'])\n",
      "dict_values([0, 1, 3, 4])\n",
      "dict_items([('h', 0), ('e', 1), ('l', 3), ('o', 4)])\n"
     ]
    }
   ],
   "source": [
    "# keys, values, items\n",
    "\n",
    "lista_1 = dict(zip(\"hello\", range(5)))\n",
    "print(lista_1.keys())\n",
    "print(lista_1.values())\n",
    "print(lista_1.items())"
   ]
  },
  {
   "cell_type": "code",
   "execution_count": 92,
   "id": "14793704-d8e3-4c1f-af25-2f9fd60a242e",
   "metadata": {},
   "outputs": [
    {
     "name": "stdout",
     "output_type": "stream",
     "text": [
      "True\n",
      "True\n",
      "True\n"
     ]
    }
   ],
   "source": [
    "print(3 in lista_1.values())\n",
    "print(\"h\" in lista_1.keys())\n",
    "print((\"h\",0) in lista_1.items())"
   ]
  },
  {
   "cell_type": "code",
   "execution_count": null,
   "id": "7063a107-6c6f-42f9-ba66-806505c33a85",
   "metadata": {},
   "outputs": [],
   "source": []
  }
 ],
 "metadata": {
  "kernelspec": {
   "display_name": "Python 3 (ipykernel)",
   "language": "python",
   "name": "python3"
  },
  "language_info": {
   "codemirror_mode": {
    "name": "ipython",
    "version": 3
   },
   "file_extension": ".py",
   "mimetype": "text/x-python",
   "name": "python",
   "nbconvert_exporter": "python",
   "pygments_lexer": "ipython3",
   "version": "3.12.4"
  }
 },
 "nbformat": 4,
 "nbformat_minor": 5
}
