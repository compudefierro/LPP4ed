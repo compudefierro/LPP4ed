{
 "cells": [
  {
   "cell_type": "code",
   "execution_count": 1,
   "id": "9ca4b288-747f-471d-8f8c-4571bfd1504d",
   "metadata": {},
   "outputs": [
    {
     "data": {
      "text/plain": [
       "[7, 8, 9]"
      ]
     },
     "execution_count": 1,
     "metadata": {},
     "output_type": "execute_result"
    }
   ],
   "source": [
    "# Mutable sequences\n",
    "# lists and bytearrays\n",
    "[x + 5 for x in [2, 3, 4]] # Python is magic"
   ]
  },
  {
   "cell_type": "code",
   "execution_count": 11,
   "id": "e29a5d4f-6446-456c-a49c-d41318ac48d9",
   "metadata": {},
   "outputs": [
    {
     "name": "stdout",
     "output_type": "stream",
     "text": [
      "['h', 'e', 'l', 'l', 'o']\n",
      "hello\n"
     ]
    }
   ],
   "source": [
    "lista = list(\"hello\") # list from a string\n",
    "print(lista)\n",
    "convertirlistaastring = ''.join(lista)\n",
    "print(convertirlistaastring)"
   ]
  },
  {
   "cell_type": "code",
   "execution_count": null,
   "id": "6ed1927a-05e1-4250-8750-b8adaff70105",
   "metadata": {},
   "outputs": [],
   "source": []
  }
 ],
 "metadata": {
  "kernelspec": {
   "display_name": "Python 3 (ipykernel)",
   "language": "python",
   "name": "python3"
  },
  "language_info": {
   "codemirror_mode": {
    "name": "ipython",
    "version": 3
   },
   "file_extension": ".py",
   "mimetype": "text/x-python",
   "name": "python",
   "nbconvert_exporter": "python",
   "pygments_lexer": "ipython3",
   "version": "3.12.4"
  }
 },
 "nbformat": 4,
 "nbformat_minor": 5
}
