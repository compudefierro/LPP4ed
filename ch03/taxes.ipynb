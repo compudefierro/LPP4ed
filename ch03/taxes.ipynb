{
 "cells": [
  {
   "cell_type": "markdown",
   "id": "7fe4d2de",
   "metadata": {},
   "source": [
    "# taxes.ipynb\n",
    "Práctica sobre condicionales if, elif, else"
   ]
  },
  {
   "cell_type": "code",
   "execution_count": 6,
   "id": "b1e8ecbd",
   "metadata": {},
   "outputs": [
    {
     "name": "stdout",
     "output_type": "stream",
     "text": [
      "You will pay: $3000.0 in taxes (coefficient: 0.2)\n"
     ]
    }
   ],
   "source": [
    "# taxes.py\n",
    "income = 15000\n",
    "if income < 15000:\n",
    "    tax_coefficient = 0.0 # 1\n",
    "elif income < 30000:\n",
    "    tax_coefficient = 0.2 # 2\n",
    "elif income < 100000:\n",
    "    tax_coefficient = 0.35 # 3\n",
    "else:\n",
    "    tax_coefficient = 0.45 # 4\n",
    "\n",
    "tax_result = income * tax_coefficient\n",
    "\n",
    "print(f\"You will pay: ${tax_result} in taxes (coefficient: {tax_coefficient})\")"
   ]
  },
  {
   "cell_type": "code",
   "execution_count": null,
   "id": "bf3a5da9",
   "metadata": {},
   "outputs": [
    {
     "name": "stdout",
     "output_type": "stream",
     "text": [
      "You will pay: $12.250,00 in taxes (coefficient: 0,35) for total income of $35.000,00\n"
     ]
    }
   ],
   "source": [
    "# taxes.py\n",
    "\n",
    "# Agregar input del usuario para poder poner el valor manualmente.\n",
    "income = int(input(\"Brute income>\"))\n",
    "if income < 15000:\n",
    "    tax_coefficient = 0.0 # 1\n",
    "elif income < 30000:\n",
    "    tax_coefficient = 0.2 # 2\n",
    "elif income < 100000:\n",
    "    tax_coefficient = 0.35 # 3\n",
    "else:\n",
    "    tax_coefficient = 0.45 # 4\n",
    "\n",
    "tax_result = income * tax_coefficient\n",
    "\n",
    "# Se agrega formate con coma decimal y se reemplaza el separador de miles , por .\n",
    "print(f\"You will pay: ${tax_result:,.2f} in taxes (coefficient: {tax_coefficient:,.2f}) for total income of ${income:,.2f}\".replace(\",\", \"X\").replace(\".\", \",\").replace(\"X\", \".\"))"
   ]
  }
 ],
 "metadata": {
  "kernelspec": {
   "display_name": "hashtag_python_2025-e4FpRDkF",
   "language": "python",
   "name": "python3"
  },
  "language_info": {
   "codemirror_mode": {
    "name": "ipython",
    "version": 3
   },
   "file_extension": ".py",
   "mimetype": "text/x-python",
   "name": "python",
   "nbconvert_exporter": "python",
   "pygments_lexer": "ipython3",
   "version": "3.13.1"
  }
 },
 "nbformat": 4,
 "nbformat_minor": 5
}
