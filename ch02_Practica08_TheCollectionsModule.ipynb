{
 "cells": [
  {
   "cell_type": "code",
   "execution_count": 1,
   "id": "8f93703a-1a0f-424a-aee8-b22d2f617236",
   "metadata": {},
   "outputs": [],
   "source": [
    "## The collections module\n",
    "# When Python general-purpose built-in containers (tuple, list, set, and dict) aren’t enough,\n",
    "# we can find specialized container data types in the collections module.\n",
    "\n",
    "# Data type Description\n",
    "# namedtuple() Factory function for creating tuple subclasses with named fields\n",
    "# defaultdict Dictionary subclass that calls a factory function to supply missing values\n",
    "# ChainMap Dictionary-like class for creating a single view of multiple mappings\n",
    "# deque List-like container with fast appends and pops on either end\n",
    "# Counter Dictionary subclass for counting hashable objects\n",
    "# OrderedDict Dictionary subclass with methods that allow for re-ordering entries\n",
    "# UserDict Wrapper around dictionary objects for easier dictionary subclassing\n",
    "# UserList Wrapper around list objects for easier list subclassing\n",
    "# UserString Wrapper around string objects for easier string subclassing"
   ]
  },
  {
   "cell_type": "code",
   "execution_count": 2,
   "id": "a69f0db9-d75e-493a-a574-a8fe94d21d48",
   "metadata": {},
   "outputs": [
    {
     "name": "stdout",
     "output_type": "stream",
     "text": [
      "9.5 8.8\n"
     ]
    }
   ],
   "source": [
    "# namedtuple()\n",
    "# Factory function for creating tuple sublasses with named fields\n",
    "\n",
    "vision = (9.5, 8.8) # Left, Right vision\n",
    "print(vision[0], vision[1])"
   ]
  },
  {
   "cell_type": "code",
   "execution_count": 3,
   "id": "28f88074-2031-4fc7-8cb5-0c151d8af7d3",
   "metadata": {},
   "outputs": [
    {
     "name": "stdout",
     "output_type": "stream",
     "text": [
      "9.5 9.5\n"
     ]
    }
   ],
   "source": [
    "# en caso de que agreguemos a vision un tercer valor quedando left, combined, right. vision[1] ya no representaria right.\n",
    "# para solucionar este problema:\n",
    "\n",
    "from collections import namedtuple\n",
    "Vision = namedtuple('Vision', ['left', 'right'])\n",
    "vision = Vision(9.5, 8.8)\n",
    "print(vision[0], vision.left)"
   ]
  },
  {
   "cell_type": "code",
   "execution_count": 4,
   "id": "8787f437-63d7-45fb-8525-4a91a7091989",
   "metadata": {},
   "outputs": [
    {
     "name": "stdout",
     "output_type": "stream",
     "text": [
      "9.5 9.2 8.8\n"
     ]
    }
   ],
   "source": [
    "Vision =  namedtuple('Vision', ['left', 'combined', 'right'])\n",
    "vision = Vision(9.5, 9.2, 8.8)\n",
    "print(vision.left, vision.combined, vision.right)"
   ]
  },
  {
   "cell_type": "code",
   "execution_count": 12,
   "id": "1580d7af-bed4-47cc-86e7-0b78c759fb96",
   "metadata": {},
   "outputs": [
    {
     "name": "stdout",
     "output_type": "stream",
     "text": [
      "2022 Dri Jorge 44\n"
     ]
    }
   ],
   "source": [
    "Persona = namedtuple('Persona', ['nombre','apellido', 'edad', 'fecha_alta'])\n",
    "persona1 = Persona('Jorge', 'Dri', 44, 2022)\n",
    "print(persona1.fecha_alta, persona1.apellido, persona1.nombre, persona1.edad)\n"
   ]
  },
  {
   "cell_type": "code",
   "execution_count": 26,
   "id": "7b1457e4-9366-4b33-bf0b-4e6ed1e8ac5d",
   "metadata": {},
   "outputs": [
    {
     "name": "stdout",
     "output_type": "stream",
     "text": [
      "{'age': 40}\n",
      "defaultdict(<class 'int'>, {'age': 1}) \n",
      " 1\n"
     ]
    }
   ],
   "source": [
    "# defaultdict \n",
    "# Dictionary subclass that calls a factory function to supply missing values\n",
    "\n",
    "from collections import defaultdict\n",
    "\n",
    "d = {\"age\": 39}\n",
    "d[\"age\"] = d.get(\"age\", 0) + 1 # age is there, we get 40\n",
    "print(d)\n",
    "\n",
    "dd = defaultdict(int) # int is the default type (0 the value)\n",
    "dd[\"age\"] += 1 # short for dd['age'] = dd['age'] + 1\n",
    "print(dd, '\\n', dd[\"age\"])"
   ]
  },
  {
   "cell_type": "code",
   "execution_count": 30,
   "id": "d71e6e55-6e37-4bc5-aa68-8decdf955bb6",
   "metadata": {},
   "outputs": [
    {
     "name": "stdout",
     "output_type": "stream",
     "text": [
      "defaultdict(<class 'int'>, {'manzana': 2, 'banana': 4, 'pera': 2})\n"
     ]
    }
   ],
   "source": [
    "# Ejemplo 1: Contar elementos (como un contador)\n",
    "contador = defaultdict(int)\n",
    "lista = ['manzana', 'banana', 'manzana', 'pera', 'banana', 'banana', 'pera', 'banana']\n",
    "for item in lista:\n",
    "    contador[item] += 1\n",
    "print(contador)"
   ]
  },
  {
   "cell_type": "code",
   "execution_count": 32,
   "id": "e8d0713c-5798-42d8-b723-9bf21089e8f4",
   "metadata": {},
   "outputs": [
    {
     "name": "stdout",
     "output_type": "stream",
     "text": [
      "defaultdict(<class 'list'>, {'rojo': [1, 3], 'azul': [2, 5], 'verde': [4]})\n"
     ]
    }
   ],
   "source": [
    "# Ejemplo 2: Agrupar elementos en listas\n",
    "\n",
    "grupos = defaultdict(list)\n",
    "\n",
    "datos = [\n",
    "    ('rojo', 1),\n",
    "    ('azul', 2),\n",
    "    ('rojo', 3),\n",
    "    ('verde', 4),\n",
    "    ('azul', 5)\n",
    "]\n",
    "\n",
    "for color, valor in datos:\n",
    "    grupos[color].append(valor)\n",
    "\n",
    "print(grupos)\n",
    "# Output: {'rojo': [1, 3], 'azul': [2, 5], 'verde': [4]}\n"
   ]
  },
  {
   "cell_type": "code",
   "execution_count": 34,
   "id": "adee6850-6c64-4790-8bf0-ec67738341c5",
   "metadata": {},
   "outputs": [
    {
     "name": "stdout",
     "output_type": "stream",
     "text": [
      "defaultdict(<function <lambda> at 0x00000230F34D3C40>, {'juan': defaultdict(<class 'int'>, {'manzanas': 2, 'peras': 1}), 'ana': defaultdict(<class 'int'>, {'manzanas': 3})})\n"
     ]
    }
   ],
   "source": [
    "# Ejemplo 3: Diccionario anidado\n",
    "\n",
    "diccionario = defaultdict(lambda: defaultdict(int))\n",
    "\n",
    "diccionario['juan']['manzanas'] += 2\n",
    "diccionario['juan']['peras'] += 1\n",
    "diccionario['ana']['manzanas'] += 3\n",
    "\n",
    "print(diccionario)\n",
    "# Output: {'juan': {'manzanas': 2, 'peras': 1}, 'ana': {'manzanas': 3}}\n"
   ]
  },
  {
   "cell_type": "code",
   "execution_count": 36,
   "id": "c643d437-d01b-4f19-8fbd-6871efe24926",
   "metadata": {},
   "outputs": [
    {
     "name": "stdout",
     "output_type": "stream",
     "text": [
      "Carlos\n",
      "desconocido\n"
     ]
    }
   ],
   "source": [
    "# Ejemplo 4: Valor por defecto personalizado\n",
    "\n",
    "def valor_por_defecto():\n",
    "    return 'desconocido'\n",
    "\n",
    "dic = defaultdict(valor_por_defecto)\n",
    "\n",
    "dic['nombre'] = 'Carlos'\n",
    "\n",
    "print(dic['nombre'])   # Carlos\n",
    "print(dic['edad'])     # desconocido\n"
   ]
  },
  {
   "cell_type": "code",
   "execution_count": 38,
   "id": "bfd8014f-d4be-49ea-ac42-e46deb4dc2d4",
   "metadata": {},
   "outputs": [
    {
     "name": "stdout",
     "output_type": "stream",
     "text": [
      "Se agregaron 10 unidades de zapatilla.\n",
      "Se agregaron 5 unidades de remera.\n",
      "Se vendieron 3 unidades de zapatilla.\n",
      "No hay suficiente stock de remera. Disponible: 5\n",
      "No hay suficiente stock de campera. Disponible: 0\n",
      "\n",
      "Stock actual:\n",
      "zapatilla: 7 unidades\n",
      "remera: 5 unidades\n",
      "campera: 0 unidades\n"
     ]
    }
   ],
   "source": [
    "# Ejemplo: Manejo de stock con defaultdict\n",
    "\n",
    "from collections import defaultdict\n",
    "\n",
    "# Creamos un stock con valor inicial 0 para cada producto\n",
    "stock = defaultdict(int)\n",
    "\n",
    "# Función para agregar stock\n",
    "def agregar_stock(producto, cantidad):\n",
    "    stock[producto] += cantidad\n",
    "    print(f\"Se agregaron {cantidad} unidades de {producto}.\")\n",
    "\n",
    "# Función para vender producto\n",
    "def vender(producto, cantidad):\n",
    "    if stock[producto] >= cantidad:\n",
    "        stock[producto] -= cantidad\n",
    "        print(f\"Se vendieron {cantidad} unidades de {producto}.\")\n",
    "    else:\n",
    "        print(f\"No hay suficiente stock de {producto}. Disponible: {stock[producto]}\")\n",
    "\n",
    "# Simulamos movimientos de stock\n",
    "agregar_stock('zapatilla', 10)\n",
    "agregar_stock('remera', 5)\n",
    "vender('zapatilla', 3)\n",
    "vender('remera', 6)  # No hay stock suficiente\n",
    "vender('campera', 1)  # No existe aún, pero defaultdict lo inicia en 0\n",
    "\n",
    "# Mostrar estado del stock\n",
    "print(\"\\nStock actual:\")\n",
    "for producto, cantidad in stock.items():\n",
    "    print(f\"{producto}: {cantidad} unidades\")\n"
   ]
  },
  {
   "cell_type": "code",
   "execution_count": 50,
   "id": "33a4c898-1e40-494a-8fbc-369311cd10f4",
   "metadata": {},
   "outputs": [
    {
     "name": "stdout",
     "output_type": "stream",
     "text": [
      "5678\n",
      "localhost\n",
      "[{'port': 5678}, {'host': 'localhost', 'port': 4567}]\n",
      "[{'port': 5678, 'host': 'packtpub.com'}, {'host': 'localhost', 'port': 4567}]\n",
      "[{'host': 'packtpub.com'}, {'host': 'localhost', 'port': 4567}]\n",
      "{'host': 'packtpub.com', 'port': 4567}\n"
     ]
    }
   ],
   "source": [
    "# ChainMap \n",
    "# Dictionary-like class for creating a single view of multiple mappings\n",
    "\n",
    "from collections import ChainMap\n",
    "\n",
    "default_connection = {'host': 'localhost', 'port': 4567}\n",
    "connection = {'port': 5678}\n",
    "\n",
    "conn = ChainMap(connection, default_connection) # map creation\n",
    "\n",
    "print(conn['port']) # port is found in the first dictionary\n",
    "print(conn['host']) # host is fetched from the second dictionary\n",
    "\n",
    "print(conn.maps) # we can see the mapping objects\n",
    "\n",
    "conn['host'] = 'packtpub.com' # let's add host\n",
    "\n",
    "print(conn.maps)\n",
    "\n",
    "del conn['port'] # let's remove the port information\n",
    "print(conn.maps)\n",
    "\n",
    "print(dict(conn))"
   ]
  },
  {
   "cell_type": "code",
   "execution_count": 56,
   "id": "6a19873e-8816-4f20-8b04-9b65103cc656",
   "metadata": {},
   "outputs": [
    {
     "name": "stdout",
     "output_type": "stream",
     "text": [
      "dark\n",
      "es\n",
      "True\n",
      "[{'theme': 'dark', 'language': 'es'}, {'theme': 'light', 'language': 'en', 'show_tips': True}]\n",
      "{'theme': 'dark', 'language': 'es', 'show_tips': True}\n"
     ]
    }
   ],
   "source": [
    "# ¿Qué hace ChainMap?\n",
    "# Cuando accedés a una clave:\n",
    "# Busca en el primer diccionario.\n",
    "# Si no la encuentra, pasa al siguiente, y así sucesivamente.\n",
    "\n",
    "from collections import ChainMap\n",
    "\n",
    "# Diccionarios simulando diferentes niveles de configuración\n",
    "config_default = {'theme': 'light', 'language': 'en', 'show_tips': True}\n",
    "config_user = {'theme': 'dark', 'language': 'es'}\n",
    "\n",
    "# Crear un ChainMap\n",
    "config = ChainMap(config_user, config_default)\n",
    "\n",
    "# Acceso a las claves\n",
    "print(config['theme'])      # dark (lo toma del diccionario del usuario)\n",
    "print(config['language'])   # es   (también del usuario)\n",
    "print(config['show_tips'])  # True (lo toma del default porque no está en el user)\n",
    "\n",
    "# Mostrar todos los mapas\n",
    "print(config.maps)\n",
    "# [{'theme': 'dark', 'language': 'es'}, {'theme': 'light', 'language': 'en', 'show_tips': True}]\n",
    "\n",
    "print(dict(config))"
   ]
  },
  {
   "cell_type": "code",
   "execution_count": null,
   "id": "5f838d6b-7c64-4901-8a6a-0993d1428dd3",
   "metadata": {},
   "outputs": [],
   "source": [
    "# Enum\n"
   ]
  },
  {
   "cell_type": "code",
   "execution_count": null,
   "id": "8596d60b-75a6-475d-9d1e-cff589a59878",
   "metadata": {},
   "outputs": [],
   "source": []
  }
 ],
 "metadata": {
  "kernelspec": {
   "display_name": "Python 3 (ipykernel)",
   "language": "python",
   "name": "python3"
  },
  "language_info": {
   "codemirror_mode": {
    "name": "ipython",
    "version": 3
   },
   "file_extension": ".py",
   "mimetype": "text/x-python",
   "name": "python",
   "nbconvert_exporter": "python",
   "pygments_lexer": "ipython3",
   "version": "3.12.4"
  }
 },
 "nbformat": 4,
 "nbformat_minor": 5
}
