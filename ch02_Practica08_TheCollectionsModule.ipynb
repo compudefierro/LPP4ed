{
 "cells": [
  {
   "cell_type": "code",
   "execution_count": 1,
   "id": "8f93703a-1a0f-424a-aee8-b22d2f617236",
   "metadata": {},
   "outputs": [],
   "source": [
    "## The collections module\n",
    "# When Python general-purpose built-in containers (tuple, list, set, and dict) aren’t enough,\n",
    "# we can find specialized container data types in the collections module.\n",
    "\n",
    "# Data type Description\n",
    "# namedtuple() Factory function for creating tuple subclasses with named fields\n",
    "# deque List-like container with fast appends and pops on either end\n",
    "# ChainMap Dictionary-like class for creating a single view of multiple mappings\n",
    "# Counter Dictionary subclass for counting hashable objects\n",
    "# OrderedDict Dictionary subclass with methods that allow for re-ordering entries\n",
    "# defaultdict Dictionary subclass that calls a factory function to supply missing values\n",
    "# UserDict Wrapper around dictionary objects for easier dictionary subclassing\n",
    "# UserList Wrapper around list objects for easier list subclassing\n",
    "# UserString Wrapper around string objects for easier string subclassing"
   ]
  },
  {
   "cell_type": "code",
   "execution_count": 3,
   "id": "a69f0db9-d75e-493a-a574-a8fe94d21d48",
   "metadata": {},
   "outputs": [
    {
     "name": "stdout",
     "output_type": "stream",
     "text": [
      "9.5 8.8\n"
     ]
    }
   ],
   "source": [
    "# namedtuple()\n",
    "# Factory function for creating tuple sublasses with named fields\n",
    "\n",
    "vision = (9.5, 8.8) # Left, Right vision\n",
    "print(vision[0], vision[1])"
   ]
  },
  {
   "cell_type": "code",
   "execution_count": 7,
   "id": "28f88074-2031-4fc7-8cb5-0c151d8af7d3",
   "metadata": {},
   "outputs": [
    {
     "name": "stdout",
     "output_type": "stream",
     "text": [
      "9.5 9.5\n"
     ]
    }
   ],
   "source": [
    "# en caso de que agreguemos a vision un tercer valor quedando left, combined, right. vision[1] ya no representaria right.\n",
    "# para solucionar este problema:\n",
    "\n",
    "from collections import namedtuple\n",
    "Vision = namedtuple('Vision', ['left', 'right'])\n",
    "vision = Vision(9.5, 8.8)\n",
    "print(vision[0], vision.left)"
   ]
  },
  {
   "cell_type": "code",
   "execution_count": 9,
   "id": "8787f437-63d7-45fb-8525-4a91a7091989",
   "metadata": {},
   "outputs": [
    {
     "name": "stdout",
     "output_type": "stream",
     "text": [
      "9.5 9.2 8.8\n"
     ]
    }
   ],
   "source": [
    "Vision =  namedtuple('Vision', ['left', 'combined', 'right'])\n",
    "vision = Vision(9.5, 9.2, 8.8)\n",
    "print(vision.left, vision.combined, vision.right)"
   ]
  },
  {
   "cell_type": "code",
   "execution_count": 13,
   "id": "1580d7af-bed4-47cc-86e7-0b78c759fb96",
   "metadata": {},
   "outputs": [
    {
     "data": {
      "text/plain": [
       "2022"
      ]
     },
     "execution_count": 13,
     "metadata": {},
     "output_type": "execute_result"
    }
   ],
   "source": [
    "Persona = namedtuple('Persona', ['nombre','apellido', 'edad', 'fecha_alta'])\n",
    "persona1 = Persona('Jorge', 'Dri', 44, 2022)\n",
    "persona1.fecha_alta"
   ]
  },
  {
   "cell_type": "code",
   "execution_count": null,
   "id": "7b1457e4-9366-4b33-bf0b-4e6ed1e8ac5d",
   "metadata": {},
   "outputs": [],
   "source": []
  }
 ],
 "metadata": {
  "kernelspec": {
   "display_name": "Python 3 (ipykernel)",
   "language": "python",
   "name": "python3"
  },
  "language_info": {
   "codemirror_mode": {
    "name": "ipython",
    "version": 3
   },
   "file_extension": ".py",
   "mimetype": "text/x-python",
   "name": "python",
   "nbconvert_exporter": "python",
   "pygments_lexer": "ipython3",
   "version": "3.12.4"
  }
 },
 "nbformat": 4,
 "nbformat_minor": 5
}
