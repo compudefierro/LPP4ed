{
 "cells": [
  {
   "cell_type": "code",
   "execution_count": 7,
   "id": "b95c90ca-46a8-4696-82d2-f821ce0c581d",
   "metadata": {},
   "outputs": [
    {
     "data": {
      "text/plain": [
       "{2, 3, 5}"
      ]
     },
     "execution_count": 7,
     "metadata": {},
     "output_type": "execute_result"
    }
   ],
   "source": [
    "# Set types\n",
    "# Python also provides two set types, set and frozenset. The set type is mutable, while frozenset\n",
    "# is immutable. They are unordered collections of immutable objects. When printed, they are usually\n",
    "# represented as comma-separated values, within a pair of curly braces.\n",
    "\n",
    "# Hashability is a characteristic that allows an object to be used as a set member as well as a key\n",
    "# for a dictionary.\n",
    "\n",
    "small_primes = set()\n",
    "small_primes.add(2)\n",
    "small_primes.add(3)\n",
    "small_primes.add(5)\n",
    "small_primes"
   ]
  },
  {
   "cell_type": "code",
   "execution_count": 14,
   "id": "67accebf-aa33-4f6d-a343-a1ee538fd0a7",
   "metadata": {},
   "outputs": [
    {
     "data": {
      "text/plain": [
       "{5, 7, 11, 13}"
      ]
     },
     "execution_count": 14,
     "metadata": {},
     "output_type": "execute_result"
    }
   ],
   "source": [
    "big_primes =set([5,7,11,13])\n",
    "big_primes"
   ]
  },
  {
   "cell_type": "code",
   "execution_count": 18,
   "id": "3a4995b4-647d-4b88-9888-85e8882af02c",
   "metadata": {},
   "outputs": [
    {
     "data": {
      "text/plain": [
       "{2, 3, 5, 7, 11, 13}"
      ]
     },
     "execution_count": 18,
     "metadata": {},
     "output_type": "execute_result"
    }
   ],
   "source": [
    "small_primes | big_primes # union"
   ]
  },
  {
   "cell_type": "code",
   "execution_count": 20,
   "id": "09e8b853-46fb-4f7e-9043-b9f8fc65f83a",
   "metadata": {},
   "outputs": [
    {
     "data": {
      "text/plain": [
       "{5}"
      ]
     },
     "execution_count": 20,
     "metadata": {},
     "output_type": "execute_result"
    }
   ],
   "source": [
    "small_primes & big_primes # intersection"
   ]
  },
  {
   "cell_type": "code",
   "execution_count": 24,
   "id": "8c46a0a5-edfb-42cd-a55a-453ceb81b9fe",
   "metadata": {},
   "outputs": [
    {
     "data": {
      "text/plain": [
       "{2, 3}"
      ]
     },
     "execution_count": 24,
     "metadata": {},
     "output_type": "execute_result"
    }
   ],
   "source": [
    "small_primes - big_primes # difference"
   ]
  },
  {
   "cell_type": "code",
   "execution_count": null,
   "id": "3ca09055-3515-4c88-b55f-b0d726d5eaa7",
   "metadata": {},
   "outputs": [],
   "source": []
  }
 ],
 "metadata": {
  "kernelspec": {
   "display_name": "Python 3 (ipykernel)",
   "language": "python",
   "name": "python3"
  },
  "language_info": {
   "codemirror_mode": {
    "name": "ipython",
    "version": 3
   },
   "file_extension": ".py",
   "mimetype": "text/x-python",
   "name": "python",
   "nbconvert_exporter": "python",
   "pygments_lexer": "ipython3",
   "version": "3.12.4"
  }
 },
 "nbformat": 4,
 "nbformat_minor": 5
}
