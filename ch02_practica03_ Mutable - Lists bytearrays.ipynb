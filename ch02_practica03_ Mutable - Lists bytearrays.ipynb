{
 "cells": [
  {
   "cell_type": "code",
   "execution_count": 5,
   "id": "9ca4b288-747f-471d-8f8c-4571bfd1504d",
   "metadata": {},
   "outputs": [
    {
     "data": {
      "text/plain": [
       "[8]"
      ]
     },
     "execution_count": 5,
     "metadata": {},
     "output_type": "execute_result"
    }
   ],
   "source": [
    "# Mutable sequences\n",
    "# lists and bytearrays\n",
    "[x + 5 for x in [2, 3, 4] if (x+5) %2 == 0] # Python is magic"
   ]
  },
  {
   "cell_type": "code",
   "execution_count": 11,
   "id": "e29a5d4f-6446-456c-a49c-d41318ac48d9",
   "metadata": {},
   "outputs": [
    {
     "name": "stdout",
     "output_type": "stream",
     "text": [
      "['h', 'e', 'l', 'l', 'o']\n",
      "hello\n"
     ]
    }
   ],
   "source": [
    "lista = list(\"hello\") # list from a string\n",
    "print(lista)\n",
    "convertirlistaastring = ''.join(lista)\n",
    "print(convertirlistaastring)\n"
   ]
  },
  {
   "cell_type": "code",
   "execution_count": 25,
   "id": "6ed1927a-05e1-4250-8750-b8adaff70105",
   "metadata": {},
   "outputs": [
    {
     "name": "stdout",
     "output_type": "stream",
     "text": [
      "['e', 'h', 'l', 'l', 'o']\n",
      "['h', 'e', 'l', 'l', 'o']\n",
      "['e', 'h', 'l', 'l', 'o']\n"
     ]
    }
   ],
   "source": [
    "lista = list(\"hello\") # list from a string\n",
    "print(sorted(lista)) # lista.sort() ordena la lista vs sorted(lista) que devuelve una lista sin modificar la original\n",
    "print(lista)\n",
    "lista.sort()\n",
    "print(lista)"
   ]
  },
  {
   "cell_type": "code",
   "execution_count": 10,
   "id": "fd867ee7-b382-44fb-b749-1dea7df8caf8",
   "metadata": {},
   "outputs": [
    {
     "name": "stdout",
     "output_type": "stream",
     "text": [
      "6\n",
      "6\n",
      "3\n",
      "[1, 2, 3, 1, 2, 3]\n",
      "[1, 2, 3, 1, 2, 3]\n"
     ]
    }
   ],
   "source": [
    "from math import prod\n",
    "valores = [1,2,3]\n",
    "print(sum(valores))\n",
    "print(prod(valores))\n",
    "print(max(valores))\n",
    "print(valores + valores)\n",
    "print(valores * 2) "
   ]
  },
  {
   "cell_type": "code",
   "execution_count": 12,
   "id": "55c182b0-f1b1-4f9c-951b-a175b287e2f9",
   "metadata": {},
   "outputs": [
    {
     "data": {
      "text/plain": [
       "[(1, 2), (1, 3), (2, -1), (4, 9), (5, 3)]"
      ]
     },
     "execution_count": 12,
     "metadata": {},
     "output_type": "execute_result"
    }
   ],
   "source": [
    "from operator import itemgetter\n",
    "a = [(5,3), (1,3), (1,2), (2,-1), (4,9)]\n",
    "sorted(a)"
   ]
  },
  {
   "cell_type": "code",
   "execution_count": 16,
   "id": "6b502e56-4d4c-481b-9bc8-886dba347a4c",
   "metadata": {},
   "outputs": [
    {
     "data": {
      "text/plain": [
       "[(1, 3), (1, 2), (2, -1), (4, 9), (5, 3)]"
      ]
     },
     "execution_count": 16,
     "metadata": {},
     "output_type": "execute_result"
    }
   ],
   "source": [
    "sorted(a, key=itemgetter(0))"
   ]
  },
  {
   "cell_type": "code",
   "execution_count": 18,
   "id": "92b6e854-fa14-4d84-ac7f-48bc617c55f8",
   "metadata": {},
   "outputs": [
    {
     "data": {
      "text/plain": [
       "[(1, 2), (1, 3), (2, -1), (4, 9), (5, 3)]"
      ]
     },
     "execution_count": 18,
     "metadata": {},
     "output_type": "execute_result"
    }
   ],
   "source": [
    "sorted(a, key=itemgetter(0,1))"
   ]
  },
  {
   "cell_type": "code",
   "execution_count": 26,
   "id": "c15be1df-7497-452e-af7f-ed487cb87a4f",
   "metadata": {},
   "outputs": [
    {
     "data": {
      "text/plain": [
       "[(5, 3), (4, 9), (2, -1), (1, 3), (1, 2)]"
      ]
     },
     "execution_count": 26,
     "metadata": {},
     "output_type": "execute_result"
    }
   ],
   "source": [
    "sorted(a, key=itemgetter(0,1), reverse=True)"
   ]
  },
  {
   "cell_type": "code",
   "execution_count": 20,
   "id": "3bfc62d5-282b-4307-9ef3-342610a416f4",
   "metadata": {},
   "outputs": [
    {
     "data": {
      "text/plain": [
       "[(2, -1), (1, 2), (5, 3), (1, 3), (4, 9)]"
      ]
     },
     "execution_count": 20,
     "metadata": {},
     "output_type": "execute_result"
    }
   ],
   "source": [
    "sorted(a, key=itemgetter(1))"
   ]
  },
  {
   "cell_type": "code",
   "execution_count": 22,
   "id": "97566d82-fd51-4898-a3a4-c156b074eb4b",
   "metadata": {},
   "outputs": [
    {
     "data": {
      "text/plain": [
       "[(4, 9), (5, 3), (1, 3), (1, 2), (2, -1)]"
      ]
     },
     "execution_count": 22,
     "metadata": {},
     "output_type": "execute_result"
    }
   ],
   "source": [
    "sorted(a, key=itemgetter(1), reverse=True)"
   ]
  },
  {
   "cell_type": "code",
   "execution_count": null,
   "id": "50a6cdcb-56e7-462a-a180-049ddbc92c02",
   "metadata": {},
   "outputs": [],
   "source": []
  }
 ],
 "metadata": {
  "kernelspec": {
   "display_name": "Python 3 (ipykernel)",
   "language": "python",
   "name": "python3"
  },
  "language_info": {
   "codemirror_mode": {
    "name": "ipython",
    "version": 3
   },
   "file_extension": ".py",
   "mimetype": "text/x-python",
   "name": "python",
   "nbconvert_exporter": "python",
   "pygments_lexer": "ipython3",
   "version": "3.12.4"
  }
 },
 "nbformat": 4,
 "nbformat_minor": 5
}
