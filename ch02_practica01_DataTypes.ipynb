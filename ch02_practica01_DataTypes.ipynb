{
 "cells": [
  {
   "cell_type": "code",
   "execution_count": 12,
   "id": "404bd304-5928-4093-bc58-19ff515cb826",
   "metadata": {},
   "outputs": [],
   "source": [
    "# I this chapter, we are going to cover the following:\n",
    "# • Python objects’ structures\n",
    "# • Mutability and immutability\n",
    "# • Built-in data types: numbers, strings, dates and times, sequences, collections, and mapping\n",
    "# types\n",
    "# • The collections module, briefly\n",
    "# • Enumerations"
   ]
  },
  {
   "cell_type": "code",
   "execution_count": 26,
   "id": "04975a93-f898-4945-a4cc-8e9945d9bdcb",
   "metadata": {},
   "outputs": [
    {
     "name": "stdout",
     "output_type": "stream",
     "text": [
      "1\n",
      "-1\n",
      "17\n"
     ]
    }
   ],
   "source": [
    "print(int(1.75))\n",
    "print(int(-1.75))\n",
    "print(int('10001', base=2))"
   ]
  },
  {
   "cell_type": "code",
   "execution_count": 30,
   "id": "0d526abd-8131-429d-a9a1-6a4d066dc7a6",
   "metadata": {},
   "outputs": [
    {
     "name": "stdout",
     "output_type": "stream",
     "text": [
      "1000\n",
      "1000\n"
     ]
    }
   ],
   "source": [
    "print(10**3)\n",
    "print(pow(10,3))"
   ]
  },
  {
   "cell_type": "code",
   "execution_count": 1,
   "id": "d27c9f46-048f-4037-b57e-9697712b60d6",
   "metadata": {},
   "outputs": [
    {
     "data": {
      "text/plain": [
       "7"
      ]
     },
     "execution_count": 1,
     "metadata": {},
     "output_type": "execute_result"
    }
   ],
   "source": [
    "pow(37, -1, 43) # modular inverse of 37 mod 43"
   ]
  },
  {
   "cell_type": "code",
   "execution_count": 3,
   "id": "4461ddb5-8798-44d3-9d93-67317c9979fc",
   "metadata": {},
   "outputs": [
    {
     "data": {
      "text/plain": [
       "1"
      ]
     },
     "execution_count": 3,
     "metadata": {},
     "output_type": "execute_result"
    }
   ],
   "source": [
    "(7 * 37) % 43 # proof the above is correct"
   ]
  },
  {
   "cell_type": "code",
   "execution_count": 15,
   "id": "b92bf869-da6a-4bb5-bca9-103860ee1a3b",
   "metadata": {},
   "outputs": [
    {
     "data": {
      "text/plain": [
       "2000"
      ]
     },
     "execution_count": 15,
     "metadata": {},
     "output_type": "execute_result"
    }
   ],
   "source": [
    "1_000 + 1_000"
   ]
  },
  {
   "cell_type": "code",
   "execution_count": 19,
   "id": "8dd53fc1-ada8-45cb-8701-e0a956e84b85",
   "metadata": {},
   "outputs": [
    {
     "data": {
      "text/plain": [
       "2"
      ]
     },
     "execution_count": 19,
     "metadata": {},
     "output_type": "execute_result"
    }
   ],
   "source": [
    "True + True"
   ]
  },
  {
   "cell_type": "code",
   "execution_count": 25,
   "id": "b611628d-2dfa-4b65-982b-0050bacdf360",
   "metadata": {},
   "outputs": [
    {
     "data": {
      "text/plain": [
       "3.141592653589793"
      ]
     },
     "execution_count": 25,
     "metadata": {},
     "output_type": "execute_result"
    }
   ],
   "source": [
    "import math\n",
    "math.pi"
   ]
  },
  {
   "cell_type": "code",
   "execution_count": 39,
   "id": "05f028c9-769f-4d6e-8b6a-67e69151da3f",
   "metadata": {},
   "outputs": [
    {
     "data": {
      "text/plain": [
       "63.617251235400005"
      ]
     },
     "execution_count": 39,
     "metadata": {},
     "output_type": "execute_result"
    }
   ],
   "source": [
    "pi = 3.1415926536\n",
    "radius = 4.5\n",
    "area = pi * ( radius ** 2)\n",
    "area"
   ]
  },
  {
   "cell_type": "code",
   "execution_count": 41,
   "id": "1d4a9ed5-7ab0-446b-ae63-05ff6e0fedca",
   "metadata": {},
   "outputs": [
    {
     "data": {
      "text/plain": [
       "63.61725123519331"
      ]
     },
     "execution_count": 41,
     "metadata": {},
     "output_type": "execute_result"
    }
   ],
   "source": [
    "radius = 4.5\n",
    "area = math.pi * ( radius ** 2)\n",
    "area"
   ]
  },
  {
   "cell_type": "code",
   "execution_count": 43,
   "id": "ae965775-89dd-44f9-9635-e3f14203cd3c",
   "metadata": {},
   "outputs": [
    {
     "data": {
      "text/plain": [
       "sys.float_info(max=1.7976931348623157e+308, max_exp=1024, max_10_exp=308, min=2.2250738585072014e-308, min_exp=-1021, min_10_exp=-307, dig=15, mant_dig=53, epsilon=2.220446049250313e-16, radix=2, rounds=1)"
      ]
     },
     "execution_count": 43,
     "metadata": {},
     "output_type": "execute_result"
    }
   ],
   "source": [
    "import sys\n",
    "sys.float_info"
   ]
  },
  {
   "cell_type": "code",
   "execution_count": 45,
   "id": "b10f53f3-41f7-4870-970b-0cd8eed4049e",
   "metadata": {},
   "outputs": [
    {
     "data": {
      "text/plain": [
       "18446744073709551616"
      ]
     },
     "execution_count": 45,
     "metadata": {},
     "output_type": "execute_result"
    }
   ],
   "source": [
    "pow(2,64)"
   ]
  },
  {
   "cell_type": "code",
   "execution_count": null,
   "id": "e0917d35-701e-4ab0-9654-d0c951ed5962",
   "metadata": {},
   "outputs": [],
   "source": []
  }
 ],
 "metadata": {
  "kernelspec": {
   "display_name": "Python 3 (ipykernel)",
   "language": "python",
   "name": "python3"
  },
  "language_info": {
   "codemirror_mode": {
    "name": "ipython",
    "version": 3
   },
   "file_extension": ".py",
   "mimetype": "text/x-python",
   "name": "python",
   "nbconvert_exporter": "python",
   "pygments_lexer": "ipython3",
   "version": "3.12.4"
  }
 },
 "nbformat": 4,
 "nbformat_minor": 5
}
