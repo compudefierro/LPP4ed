{
 "cells": [
  {
   "cell_type": "code",
   "execution_count": 1,
   "id": "9126aa3c-6cae-47a2-8d68-a48080ed1fa6",
   "metadata": {},
   "outputs": [
    {
     "name": "stdout",
     "output_type": "stream",
     "text": [
      " {'A': 1, 'Z': -1} \n",
      " {'A': 1, 'Z': -1} \n",
      " {'A': 1, 'Z': -1} \n",
      " {'A': 1, 'Z': -1} \n",
      " {'Z': -1, 'A': 1}\n",
      "True\n"
     ]
    }
   ],
   "source": [
    "# Mapping types: dictionaries\n",
    "# Of all the built-in Python data types, the dictionary is easily the most interesting. It is the only\n",
    "# standard mapping type, and it is the backbone of every Python object.\n",
    "\n",
    "a = dict(A=1, Z=-1)\n",
    "b = {\"A\":1, \"Z\":-1}\n",
    "c = dict(zip([\"A\",\"Z\"], [1,-1]))\n",
    "d = dict([(\"A\", 1), (\"Z\", -1)])\n",
    "e = dict({\"Z\": -1, \"A\": 1})\n",
    "print(\"\",a,\"\\n\",b, \"\\n\", c, \"\\n\", d,\"\\n\", e)\n",
    "print(a == b == c == d == e)  "
   ]
  },
  {
   "cell_type": "code",
   "execution_count": 2,
   "id": "cbddb81f-545e-4c6e-a49e-50001163f663",
   "metadata": {},
   "outputs": [
    {
     "data": {
      "text/plain": [
       "False"
      ]
     },
     "execution_count": 2,
     "metadata": {},
     "output_type": "execute_result"
    }
   ],
   "source": [
    "f = dict(A=1, Z=2)\n",
    "a==f"
   ]
  },
  {
   "cell_type": "code",
   "execution_count": 3,
   "id": "6aa5054b-5df4-492f-91fa-4a3618817ae5",
   "metadata": {},
   "outputs": [
    {
     "name": "stdout",
     "output_type": "stream",
     "text": [
      "[('h', 1), ('e', 2), ('l', 3), ('l', 4), ('o', 5)]\n",
      "[('h', 1), ('e', 2), ('l', 3), ('l', 4), ('o', 5)]\n"
     ]
    }
   ],
   "source": [
    "# zip\n",
    "\n",
    "lista_a = list(zip([\"h\", \"e\", \"l\", \"l\", \"o\"], [1, 2, 3, 4, 5]))\n",
    "print(lista_a)\n",
    "lista_b = list(zip(\"hello\", range(1, 6))) # equivalent, more pythonic\n",
    "print(lista_b)"
   ]
  },
  {
   "cell_type": "code",
   "execution_count": 4,
   "id": "cb09c434-a281-4dbe-80c1-7b9314221837",
   "metadata": {},
   "outputs": [
    {
     "name": "stdout",
     "output_type": "stream",
     "text": [
      "dict_keys(['h', 'e', 'l', 'o'])\n",
      "dict_values([0, 1, 3, 4])\n",
      "dict_items([('h', 0), ('e', 1), ('l', 3), ('o', 4)])\n"
     ]
    }
   ],
   "source": [
    "# keys, values, items\n",
    "\n",
    "lista_1 = dict(zip(\"hello\", range(5)))\n",
    "print(lista_1.keys())\n",
    "print(lista_1.values())\n",
    "print(lista_1.items())"
   ]
  },
  {
   "cell_type": "code",
   "execution_count": 5,
   "id": "14793704-d8e3-4c1f-af25-2f9fd60a242e",
   "metadata": {},
   "outputs": [
    {
     "name": "stdout",
     "output_type": "stream",
     "text": [
      "True\n",
      "True\n",
      "True\n"
     ]
    }
   ],
   "source": [
    "print(3 in lista_1.values())\n",
    "print(\"h\" in lista_1.keys())\n",
    "print((\"h\",0) in lista_1.items())"
   ]
  },
  {
   "cell_type": "code",
   "execution_count": 16,
   "id": "7063a107-6c6f-42f9-ba66-806505c33a85",
   "metadata": {},
   "outputs": [
    {
     "data": {
      "text/plain": [
       "('o', 4)"
      ]
     },
     "execution_count": 16,
     "metadata": {},
     "output_type": "execute_result"
    }
   ],
   "source": [
    "lista_1.popitem() # removes the last item added"
   ]
  },
  {
   "cell_type": "code",
   "execution_count": 18,
   "id": "acac540b-3294-4968-aa06-989918724914",
   "metadata": {},
   "outputs": [
    {
     "data": {
      "text/plain": [
       "{'h': 0, 'e': 1, 'l': 3}"
      ]
     },
     "execution_count": 18,
     "metadata": {},
     "output_type": "execute_result"
    }
   ],
   "source": [
    "lista_1"
   ]
  },
  {
   "cell_type": "code",
   "execution_count": 22,
   "id": "7c32923d-5d31-4e38-8340-6cd03574f421",
   "metadata": {},
   "outputs": [
    {
     "data": {
      "text/plain": [
       "3"
      ]
     },
     "execution_count": 22,
     "metadata": {},
     "output_type": "execute_result"
    }
   ],
   "source": [
    "lista_1.pop(\"l\")\n"
   ]
  },
  {
   "cell_type": "code",
   "execution_count": 24,
   "id": "e84e5b9e-8117-4a6b-bd2e-699a2e9b8367",
   "metadata": {},
   "outputs": [
    {
     "data": {
      "text/plain": [
       "{'h': 0, 'e': 1}"
      ]
     },
     "execution_count": 24,
     "metadata": {},
     "output_type": "execute_result"
    }
   ],
   "source": [
    "lista_1"
   ]
  },
  {
   "cell_type": "code",
   "execution_count": 26,
   "id": "89607ccb-27e1-47e5-9835-39c307011fb5",
   "metadata": {},
   "outputs": [
    {
     "data": {
      "text/plain": [
       "{'h': 0, 'e': 1, 'l': 3, 'o': 4}"
      ]
     },
     "execution_count": 26,
     "metadata": {},
     "output_type": "execute_result"
    }
   ],
   "source": [
    "lista_1 = dict(zip(\"hello\", range(5)))\n",
    "lista_1"
   ]
  },
  {
   "cell_type": "code",
   "execution_count": 28,
   "id": "55f4562b-8280-444d-98d8-a578226a9c24",
   "metadata": {},
   "outputs": [
    {
     "data": {
      "text/plain": [
       "{'h': 1, 'e': 1, 'l': 3, 'o': 4}"
      ]
     },
     "execution_count": 28,
     "metadata": {},
     "output_type": "execute_result"
    }
   ],
   "source": [
    "lista_1.update(h=1)\n",
    "lista_1"
   ]
  },
  {
   "cell_type": "code",
   "execution_count": 32,
   "id": "cb1e9dc1-b50c-4031-adb7-2254052ea448",
   "metadata": {},
   "outputs": [
    {
     "data": {
      "text/plain": [
       "{'h': 0, 'e': 1, 'l': 3, 'o': 4}"
      ]
     },
     "execution_count": 32,
     "metadata": {},
     "output_type": "execute_result"
    }
   ],
   "source": [
    "lista_1.update({\"h\":0})\n",
    "lista_1"
   ]
  },
  {
   "cell_type": "code",
   "execution_count": 34,
   "id": "06037def-d17d-4939-a4fd-5148765cbb61",
   "metadata": {},
   "outputs": [
    {
     "data": {
      "text/plain": [
       "5"
      ]
     },
     "execution_count": 34,
     "metadata": {},
     "output_type": "execute_result"
    }
   ],
   "source": [
    "lista_1.get(\"a\", 5)"
   ]
  },
  {
   "cell_type": "code",
   "execution_count": 38,
   "id": "2ef81256-9d4d-429f-98d3-f41cd52220b0",
   "metadata": {},
   "outputs": [],
   "source": [
    "lista_1.get('w') # return None"
   ]
  },
  {
   "cell_type": "code",
   "execution_count": null,
   "id": "b7223b4a-7f9d-477e-9ed3-f9571ed60a5c",
   "metadata": {},
   "outputs": [],
   "source": []
  }
 ],
 "metadata": {
  "kernelspec": {
   "display_name": "Python 3 (ipykernel)",
   "language": "python",
   "name": "python3"
  },
  "language_info": {
   "codemirror_mode": {
    "name": "ipython",
    "version": 3
   },
   "file_extension": ".py",
   "mimetype": "text/x-python",
   "name": "python",
   "nbconvert_exporter": "python",
   "pygments_lexer": "ipython3",
   "version": "3.12.4"
  }
 },
 "nbformat": 4,
 "nbformat_minor": 5
}
