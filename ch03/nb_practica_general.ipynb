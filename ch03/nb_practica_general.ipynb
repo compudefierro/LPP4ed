{
 "cells": [
  {
   "cell_type": "code",
   "execution_count": 6,
   "id": "5885e1c7",
   "metadata": {},
   "outputs": [
    {
     "name": "stdout",
     "output_type": "stream",
     "text": [
      "I'm on time!\n"
     ]
    }
   ],
   "source": [
    "from random import randint\n",
    "late = randint(0, 1)  # Randomly choose between 0 (on time) and 1 (late)    \n",
    "if late:\n",
    "    print(\"I'm late!\")\n",
    "elif not late:\n",
    "    print(\"I'm on time!\")"
   ]
  },
  {
   "cell_type": "code",
   "execution_count": 7,
   "id": "7ce55376",
   "metadata": {},
   "outputs": [
    {
     "name": "stdout",
     "output_type": "stream",
     "text": [
      "User: alice, Password: password123\n",
      "User: bob, Password: qwerty\n",
      "User: carol, Password: letmein\n"
     ]
    }
   ],
   "source": [
    "# Example: Iterating over a dictionary of users and passwords\n",
    "users = {\n",
    "    'alice': 'password123',\n",
    "    'bob': 'qwerty',\n",
    "    'carol': 'letmein'\n",
    "}\n",
    "\n",
    "# Iterate over keys and values\n",
    "for username, password in users.items():\n",
    "    print(f'User: {username}, Password: {password}')"
   ]
  },
  {
   "cell_type": "code",
   "execution_count": 2,
   "id": "5d22ea9c",
   "metadata": {},
   "outputs": [
    {
     "name": "stdout",
     "output_type": "stream",
     "text": [
      "You will pay: $3000.00 in taxes\n"
     ]
    }
   ],
   "source": [
    "# taxes.py\n",
    "income = 15000\n",
    "if income < 10000:\n",
    "    tax_coefficient = 0.0 # 1\n",
    "elif income < 30000:\n",
    "    tax_coefficient = 0.2 # 2\n",
    "elif income < 100000:\n",
    "    tax_coefficient = 0.35 # 3\n",
    "else:\n",
    "    tax_coefficient = 0.45 # 4\n",
    "print(f\"You will pay: ${income * tax_coefficient:.2f} in taxes\")"
   ]
  }
 ],
 "metadata": {
  "kernelspec": {
   "display_name": "fastAPI-Cookbook-practice-hOR7nXG1",
   "language": "python",
   "name": "python3"
  },
  "language_info": {
   "codemirror_mode": {
    "name": "ipython",
    "version": 3
   },
   "file_extension": ".py",
   "mimetype": "text/x-python",
   "name": "python",
   "nbconvert_exporter": "python",
   "pygments_lexer": "ipython3",
   "version": "3.13.3"
  }
 },
 "nbformat": 4,
 "nbformat_minor": 5
}
