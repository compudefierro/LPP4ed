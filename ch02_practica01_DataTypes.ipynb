{
 "cells": [
  {
   "cell_type": "code",
   "execution_count": 12,
   "id": "404bd304-5928-4093-bc58-19ff515cb826",
   "metadata": {},
   "outputs": [],
   "source": [
    "# I this chapter, we are going to cover the following:\n",
    "# • Python objects’ structures\n",
    "# • Mutability and immutability\n",
    "# • Built-in data types: numbers, strings, dates and times, sequences, collections, and mapping\n",
    "# types\n",
    "# • The collections module, briefly\n",
    "# • Enumerations"
   ]
  },
  {
   "cell_type": "code",
   "execution_count": 26,
   "id": "04975a93-f898-4945-a4cc-8e9945d9bdcb",
   "metadata": {},
   "outputs": [
    {
     "name": "stdout",
     "output_type": "stream",
     "text": [
      "1\n",
      "-1\n",
      "17\n"
     ]
    }
   ],
   "source": [
    "print(int(1.75))\n",
    "print(int(-1.75))\n",
    "print(int('10001', base=2))"
   ]
  },
  {
   "cell_type": "code",
   "execution_count": 30,
   "id": "0d526abd-8131-429d-a9a1-6a4d066dc7a6",
   "metadata": {},
   "outputs": [
    {
     "name": "stdout",
     "output_type": "stream",
     "text": [
      "1000\n",
      "1000\n"
     ]
    }
   ],
   "source": [
    "print(10**3)\n",
    "print(pow(10,3))"
   ]
  },
  {
   "cell_type": "code",
   "execution_count": null,
   "id": "36f5ab76-39ad-40fc-b524-3b4823669007",
   "metadata": {},
   "outputs": [],
   "source": []
  }
 ],
 "metadata": {
  "kernelspec": {
   "display_name": "Python 3 (ipykernel)",
   "language": "python",
   "name": "python3"
  },
  "language_info": {
   "codemirror_mode": {
    "name": "ipython",
    "version": 3
   },
   "file_extension": ".py",
   "mimetype": "text/x-python",
   "name": "python",
   "nbconvert_exporter": "python",
   "pygments_lexer": "ipython3",
   "version": "3.12.4"
  }
 },
 "nbformat": 4,
 "nbformat_minor": 5
}
