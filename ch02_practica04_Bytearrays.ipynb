{
 "cells": [
  {
   "cell_type": "code",
   "execution_count": 3,
   "id": "61336af0-fec3-4720-9388-c2f28231bf2a",
   "metadata": {},
   "outputs": [
    {
     "name": "stdout",
     "output_type": "stream",
     "text": [
      "b'ABC' \n",
      " bytearray(b'ABC')\n",
      "bytearray(b'AdC')\n"
     ]
    }
   ],
   "source": [
    "# Bytearrays\n",
    "\n",
    "# Creacion\n",
    "# bytes: Se puede crear usando literales b'' o la función bytes()\n",
    "# bytearray: Se crea usando bytearray()\n",
    "\n",
    "b1 = bytes([65, 66, 67])  # b'ABC'\n",
    "b2 = bytearray([65, 66, 67])  # bytearray(b'ABC')\n",
    "\n",
    "print(b1,'\\n', b2)\n",
    "\n",
    "b2[1] = 100  # Modifica la 'B' por 'd'\n",
    "print(b2)  # bytearray(b'AdC')\n",
    "\n"
   ]
  },
  {
   "cell_type": "code",
   "execution_count": 5,
   "id": "8d162b72-39ae-4916-b1d4-28d6d84caa38",
   "metadata": {},
   "outputs": [
    {
     "name": "stdout",
     "output_type": "stream",
     "text": [
      "b'Hello'\n",
      "bytearray(b'hello')\n"
     ]
    }
   ],
   "source": [
    "# bytearray es útil cuando necesitas modificar la secuencia sin crear nuevas instancias.\n",
    "\n",
    "b = bytes([72, 101, 108, 108, 111])  # b'Hello'\n",
    "print(b)\n",
    "ba = bytearray(b)  # Convertir a bytearray\n",
    "ba[0] = 104  # Cambia 'H' por 'h'\n",
    "print(ba)  # bytearray(b'hello')\n"
   ]
  },
  {
   "cell_type": "code",
   "execution_count": 13,
   "id": "a6e69ad5-8566-435b-8ffe-f84cf6b81871",
   "metadata": {},
   "outputs": [],
   "source": [
    "# Ejemplo: Modificación de un archivo binario sin crear copias adicionales\n",
    "# Supongamos que queremos modificar ciertos bytes de una imagen sin cargarla completamente en memoria (como haría bytes). Esto es útil en edición de archivos, compresión, o modificación de cabeceras.\n",
    "\n",
    "# Abrir un archivo binario en modo lectura y escritura\n",
    "with open(\"imagen.jpg\", \"rb\") as file:\n",
    "    data = bytearray(file.read())  # Convertir los bytes a bytearray para modificarlos\n",
    "\n",
    "# Modificar los primeros bytes de la imagen (Ejemplo: cambiar cabecera)\n",
    "data[0:2] = b'\\xFF\\xD9'  # Esto alterará la estructura del archivo (no recomendado en imágenes reales)\n",
    "\n",
    "# Guardar los cambios en un nuevo archivo\n",
    "with open(\"imagen_modificada.jpg\", \"wb\") as file:\n",
    "    file.write(data)\n",
    "\n",
    "# ¿Por qué bytearray en este caso?\n",
    "# Eficiencia: Modificamos los datos en memoria sin crear múltiples copias.\n",
    "\n",
    "# Flexibilidad: Podemos alterar cualquier byte sin restricciones de inmutabilidad.\n",
    "\n",
    "# Uso en producción: Esto se usa en procesamiento de imágenes, edición de cabeceras de archivos binarios (como MP3, PNG, ZIP), o incluso en protocolos de red donde los paquetes deben modificarse dinámicamente.\n"
   ]
  },
  {
   "cell_type": "code",
   "execution_count": 15,
   "id": "6a5a703d-c239-42a7-af30-66e55e5aae89",
   "metadata": {},
   "outputs": [
    {
     "data": {
      "text/plain": [
       "bytearray(b'')"
      ]
     },
     "execution_count": 15,
     "metadata": {},
     "output_type": "execute_result"
    }
   ],
   "source": [
    "bytearray() # empty bytearray object"
   ]
  },
  {
   "cell_type": "code",
   "execution_count": 17,
   "id": "f556f782-bf9f-4d75-bbcc-454f13b75cd8",
   "metadata": {},
   "outputs": [
    {
     "data": {
      "text/plain": [
       "bytearray(b'\\x00\\x00\\x00\\x00\\x00\\x00\\x00\\x00\\x00\\x00')"
      ]
     },
     "execution_count": 17,
     "metadata": {},
     "output_type": "execute_result"
    }
   ],
   "source": [
    "bytearray(10) # zero-filled instance with given length"
   ]
  },
  {
   "cell_type": "code",
   "execution_count": 19,
   "id": "9fb5593f-970e-4539-aaaa-8b37ffec597d",
   "metadata": {},
   "outputs": [
    {
     "data": {
      "text/plain": [
       "bytearray(b'\\x00\\x01\\x02\\x03\\x04')"
      ]
     },
     "execution_count": 19,
     "metadata": {},
     "output_type": "execute_result"
    }
   ],
   "source": [
    "bytearray(range(5)) # bytearray from iterable of integers"
   ]
  },
  {
   "cell_type": "code",
   "execution_count": 21,
   "id": "7d3c7449-cb3c-43dd-8f42-9d8f6a9af5fe",
   "metadata": {},
   "outputs": [],
   "source": [
    "name = bytearray(b\"Lina\") #A - bytearray from bytes"
   ]
  },
  {
   "cell_type": "code",
   "execution_count": 23,
   "id": "91966639-d88c-4ab7-8342-8675e1cf5cd7",
   "metadata": {},
   "outputs": [
    {
     "data": {
      "text/plain": [
       "bytearray(b'lina')"
      ]
     },
     "execution_count": 23,
     "metadata": {},
     "output_type": "execute_result"
    }
   ],
   "source": [
    ">>> name.replace(b\"L\", b\"l\")"
   ]
  },
  {
   "cell_type": "code",
   "execution_count": 25,
   "id": "612e206c-b03a-4d57-8a39-80903672ac25",
   "metadata": {},
   "outputs": [
    {
     "data": {
      "text/plain": [
       "True"
      ]
     },
     "execution_count": 25,
     "metadata": {},
     "output_type": "execute_result"
    }
   ],
   "source": [
    "name.endswith(b'na')"
   ]
  },
  {
   "cell_type": "code",
   "execution_count": 27,
   "id": "37bea4cb-e52d-4f02-849d-2add842e2fe8",
   "metadata": {},
   "outputs": [
    {
     "data": {
      "text/plain": [
       "bytearray(b'LINA')"
      ]
     },
     "execution_count": 27,
     "metadata": {},
     "output_type": "execute_result"
    }
   ],
   "source": [
    "name.upper()"
   ]
  },
  {
   "cell_type": "code",
   "execution_count": 29,
   "id": "741e1493-a7fa-46cf-9750-0242b2dafe31",
   "metadata": {},
   "outputs": [
    {
     "data": {
      "text/plain": [
       "bytearray(b'Lina')"
      ]
     },
     "execution_count": 29,
     "metadata": {},
     "output_type": "execute_result"
    }
   ],
   "source": [
    "name"
   ]
  },
  {
   "cell_type": "code",
   "execution_count": 31,
   "id": "c4dc00f6-f0d3-4c65-9537-930200072fc4",
   "metadata": {},
   "outputs": [
    {
     "data": {
      "text/plain": [
       "1"
      ]
     },
     "execution_count": 31,
     "metadata": {},
     "output_type": "execute_result"
    }
   ],
   "source": [
    "name.count(b'L')"
   ]
  },
  {
   "cell_type": "code",
   "execution_count": null,
   "id": "616e7cf1-4532-460d-a385-e5b080e1725a",
   "metadata": {},
   "outputs": [],
   "source": []
  }
 ],
 "metadata": {
  "kernelspec": {
   "display_name": "Python 3 (ipykernel)",
   "language": "python",
   "name": "python3"
  },
  "language_info": {
   "codemirror_mode": {
    "name": "ipython",
    "version": 3
   },
   "file_extension": ".py",
   "mimetype": "text/x-python",
   "name": "python",
   "nbconvert_exporter": "python",
   "pygments_lexer": "ipython3",
   "version": "3.12.4"
  }
 },
 "nbformat": 4,
 "nbformat_minor": 5
}
